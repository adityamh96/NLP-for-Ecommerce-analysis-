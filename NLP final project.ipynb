{
 "cells": [
  {
   "cell_type": "code",
   "execution_count": 1,
   "metadata": {
    "colab": {},
    "colab_type": "code",
    "id": "7C2SC5osOFR7"
   },
   "outputs": [],
   "source": [
    "import pandas as pd\n",
    "import numpy as np\n",
    "import re, string, unicodedata\n",
    "import nltk\n",
    "# import inflect\n",
    "from nltk import word_tokenize, sent_tokenize\n",
    "from nltk.corpus import stopwords"
   ]
  },
  {
   "cell_type": "code",
   "execution_count": 2,
   "metadata": {
    "colab": {
     "base_uri": "https://localhost:8080/",
     "height": 289
    },
    "colab_type": "code",
    "id": "5SIsuL-MOQK5",
    "outputId": "12749971-cb87-4d1d-df37-629738e2f8fe"
   },
   "outputs": [
    {
     "data": {
      "text/html": [
       "<div>\n",
       "<style scoped>\n",
       "    .dataframe tbody tr th:only-of-type {\n",
       "        vertical-align: middle;\n",
       "    }\n",
       "\n",
       "    .dataframe tbody tr th {\n",
       "        vertical-align: top;\n",
       "    }\n",
       "\n",
       "    .dataframe thead th {\n",
       "        text-align: right;\n",
       "    }\n",
       "</style>\n",
       "<table border=\"1\" class=\"dataframe\">\n",
       "  <thead>\n",
       "    <tr style=\"text-align: right;\">\n",
       "      <th></th>\n",
       "      <th>productId</th>\n",
       "      <th>Title</th>\n",
       "      <th>userId</th>\n",
       "      <th>Helpfulness</th>\n",
       "      <th>Score</th>\n",
       "      <th>Time</th>\n",
       "      <th>Text</th>\n",
       "      <th>Cat1</th>\n",
       "      <th>Cat2</th>\n",
       "      <th>Cat3</th>\n",
       "    </tr>\n",
       "  </thead>\n",
       "  <tbody>\n",
       "    <tr>\n",
       "      <th>0</th>\n",
       "      <td>B000E46LYG</td>\n",
       "      <td>Golden Valley Natural Buffalo Jerky</td>\n",
       "      <td>A3MQDNGHDJU4MK</td>\n",
       "      <td>0/0</td>\n",
       "      <td>3.0</td>\n",
       "      <td>-1</td>\n",
       "      <td>The description and photo on this product need...</td>\n",
       "      <td>grocery gourmet food</td>\n",
       "      <td>meat poultry</td>\n",
       "      <td>jerky</td>\n",
       "    </tr>\n",
       "    <tr>\n",
       "      <th>1</th>\n",
       "      <td>B000GRA6N8</td>\n",
       "      <td>Westing Game</td>\n",
       "      <td>unknown</td>\n",
       "      <td>0/0</td>\n",
       "      <td>5.0</td>\n",
       "      <td>860630400</td>\n",
       "      <td>This was a great book!!!! It is well thought t...</td>\n",
       "      <td>toys games</td>\n",
       "      <td>games</td>\n",
       "      <td>unknown</td>\n",
       "    </tr>\n",
       "    <tr>\n",
       "      <th>2</th>\n",
       "      <td>B000GRA6N8</td>\n",
       "      <td>Westing Game</td>\n",
       "      <td>unknown</td>\n",
       "      <td>0/0</td>\n",
       "      <td>5.0</td>\n",
       "      <td>883008000</td>\n",
       "      <td>I am a first year teacher, teaching 5th grade....</td>\n",
       "      <td>toys games</td>\n",
       "      <td>games</td>\n",
       "      <td>unknown</td>\n",
       "    </tr>\n",
       "    <tr>\n",
       "      <th>3</th>\n",
       "      <td>B000GRA6N8</td>\n",
       "      <td>Westing Game</td>\n",
       "      <td>unknown</td>\n",
       "      <td>0/0</td>\n",
       "      <td>5.0</td>\n",
       "      <td>897696000</td>\n",
       "      <td>I got the book at my bookfair at school lookin...</td>\n",
       "      <td>toys games</td>\n",
       "      <td>games</td>\n",
       "      <td>unknown</td>\n",
       "    </tr>\n",
       "    <tr>\n",
       "      <th>4</th>\n",
       "      <td>B00000DMDQ</td>\n",
       "      <td>I SPY A is For Jigsaw Puzzle 63pc</td>\n",
       "      <td>unknown</td>\n",
       "      <td>2/4</td>\n",
       "      <td>5.0</td>\n",
       "      <td>911865600</td>\n",
       "      <td>Hi! I'm Martine Redman and I created this puzz...</td>\n",
       "      <td>toys games</td>\n",
       "      <td>puzzles</td>\n",
       "      <td>jigsaw puzzles</td>\n",
       "    </tr>\n",
       "  </tbody>\n",
       "</table>\n",
       "</div>"
      ],
      "text/plain": [
       "    productId                                Title          userId  \\\n",
       "0  B000E46LYG  Golden Valley Natural Buffalo Jerky  A3MQDNGHDJU4MK   \n",
       "1  B000GRA6N8                         Westing Game         unknown   \n",
       "2  B000GRA6N8                         Westing Game         unknown   \n",
       "3  B000GRA6N8                         Westing Game         unknown   \n",
       "4  B00000DMDQ    I SPY A is For Jigsaw Puzzle 63pc         unknown   \n",
       "\n",
       "  Helpfulness  Score       Time  \\\n",
       "0         0/0    3.0         -1   \n",
       "1         0/0    5.0  860630400   \n",
       "2         0/0    5.0  883008000   \n",
       "3         0/0    5.0  897696000   \n",
       "4         2/4    5.0  911865600   \n",
       "\n",
       "                                                Text                  Cat1  \\\n",
       "0  The description and photo on this product need...  grocery gourmet food   \n",
       "1  This was a great book!!!! It is well thought t...            toys games   \n",
       "2  I am a first year teacher, teaching 5th grade....            toys games   \n",
       "3  I got the book at my bookfair at school lookin...            toys games   \n",
       "4  Hi! I'm Martine Redman and I created this puzz...            toys games   \n",
       "\n",
       "           Cat2            Cat3  \n",
       "0  meat poultry           jerky  \n",
       "1         games         unknown  \n",
       "2         games         unknown  \n",
       "3         games         unknown  \n",
       "4       puzzles  jigsaw puzzles  "
      ]
     },
     "execution_count": 2,
     "metadata": {},
     "output_type": "execute_result"
    }
   ],
   "source": [
    "df = pd.read_csv('train_40k.csv')\n",
    "# data = df[:20000]\n",
    "data = pd.DataFrame(data = df[:20000])\n",
    "data.head(5)"
   ]
  },
  {
   "cell_type": "markdown",
   "metadata": {},
   "source": [
    "# EDA"
   ]
  },
  {
   "cell_type": "code",
   "execution_count": 3,
   "metadata": {},
   "outputs": [
    {
     "data": {
      "text/plain": [
       "productId       object\n",
       "Title           object\n",
       "userId          object\n",
       "Helpfulness     object\n",
       "Score          float64\n",
       "Time             int64\n",
       "Text            object\n",
       "Cat1            object\n",
       "Cat2            object\n",
       "Cat3            object\n",
       "dtype: object"
      ]
     },
     "execution_count": 3,
     "metadata": {},
     "output_type": "execute_result"
    }
   ],
   "source": [
    "data.dtypes"
   ]
  },
  {
   "cell_type": "code",
   "execution_count": 4,
   "metadata": {},
   "outputs": [
    {
     "data": {
      "text/plain": [
       "productId      0\n",
       "Title          9\n",
       "userId         0\n",
       "Helpfulness    0\n",
       "Score          0\n",
       "Time           0\n",
       "Text           0\n",
       "Cat1           0\n",
       "Cat2           0\n",
       "Cat3           0\n",
       "dtype: int64"
      ]
     },
     "execution_count": 4,
     "metadata": {},
     "output_type": "execute_result"
    }
   ],
   "source": [
    "# To check if any nan values are present\n",
    "data.isna().sum()"
   ]
  },
  {
   "cell_type": "code",
   "execution_count": 5,
   "metadata": {},
   "outputs": [
    {
     "data": {
      "text/plain": [
       "<matplotlib.axes._subplots.AxesSubplot at 0x13230f150>"
      ]
     },
     "execution_count": 5,
     "metadata": {},
     "output_type": "execute_result"
    },
    {
     "data": {
      "image/png": "[encoded data removed]",
      "text/plain": [
       "<Figure size 720x288 with 1 Axes>"
      ]
     },
     "metadata": {
      "needs_background": "light"
     },
     "output_type": "display_data"
    }
   ],
   "source": [
    "# Distribution of product categories \n",
    "%matplotlib inline\n",
    "data['Cat1'].value_counts(normalize=False).plot(kind='bar', figsize=(10, 4))"
   ]
  },
  {
   "cell_type": "code",
   "execution_count": 6,
   "metadata": {},
   "outputs": [
    {
     "data": {
      "text/plain": [
       "<matplotlib.axes._subplots.AxesSubplot at 0x12e40ebd0>"
      ]
     },
     "execution_count": 6,
     "metadata": {},
     "output_type": "execute_result"
    },
    {
     "data": {
      "image/png": "[encoded data removed]",
      "text/plain": [
       "<Figure size 720x288 with 1 Axes>"
      ]
     },
     "metadata": {
      "needs_background": "light"
     },
     "output_type": "display_data"
    }
   ],
   "source": [
    "# Average ratings for each of these product categories\n",
    "avg_rating = data.groupby('Cat1').agg(mean_rating=('Score', 'mean')) \n",
    "avg_rating.sort_values('mean_rating').plot(kind='bar', figsize=(10, 4))"
   ]
  },
  {
   "cell_type": "code",
   "execution_count": 7,
   "metadata": {},
   "outputs": [
    {
     "data": {
      "text/plain": [
       "64"
      ]
     },
     "execution_count": 7,
     "metadata": {},
     "output_type": "execute_result"
    }
   ],
   "source": [
    "data.Cat2.nunique()"
   ]
  },
  {
   "cell_type": "code",
   "execution_count": 8,
   "metadata": {},
   "outputs": [
    {
     "data": {
      "text/plain": [
       "422"
      ]
     },
     "execution_count": 8,
     "metadata": {},
     "output_type": "execute_result"
    }
   ],
   "source": [
    "data.Cat3.nunique()"
   ]
  },
  {
   "cell_type": "code",
   "execution_count": 9,
   "metadata": {},
   "outputs": [
    {
     "data": {
      "text/plain": [
       "11829"
      ]
     },
     "execution_count": 9,
     "metadata": {},
     "output_type": "execute_result"
    }
   ],
   "source": [
    "data.productId.nunique()"
   ]
  },
  {
   "cell_type": "code",
   "execution_count": 10,
   "metadata": {},
   "outputs": [
    {
     "data": {
      "text/plain": [
       "17291"
      ]
     },
     "execution_count": 10,
     "metadata": {},
     "output_type": "execute_result"
    }
   ],
   "source": [
    "data.userId.nunique()"
   ]
  },
  {
   "cell_type": "markdown",
   "metadata": {},
   "source": [
    "# Text Preprocessing"
   ]
  },
  {
   "cell_type": "code",
   "execution_count": 11,
   "metadata": {
    "colab": {},
    "colab_type": "code",
    "id": "oLsTb_FYXMZy"
   },
   "outputs": [],
   "source": [
    "# Converting text into lowercase\n",
    "def to_lowercase(text):\n",
    "    new_words = ''\n",
    "    for word in text:\n",
    "        new_word = word.lower()\n",
    "        new_words += new_word\n",
    "    return new_words\n",
    "\n",
    "data[\"Text\"] = data[\"Text\"].apply(lambda text: to_lowercase(text))\n",
    "# data.head()  "
   ]
  },
  {
   "cell_type": "code",
   "execution_count": 12,
   "metadata": {
    "colab": {},
    "colab_type": "code",
    "id": "E3BpAaZMXMdm"
   },
   "outputs": [],
   "source": [
    "# Removing punctuation from the texts\n",
    "def remove_punctuation(text):\n",
    "    new_words = ''\n",
    "    for word in text:\n",
    "        new_word = re.sub(r'[^\\w\\s]', '', word)\n",
    "        if new_word != '':\n",
    "              new_words += new_word\n",
    "    return new_words\n",
    "\n",
    "data[\"Text\"] = data[\"Text\"].apply(lambda text: remove_punctuation(text))\n",
    "# data.head()  "
   ]
  },
  {
   "cell_type": "code",
   "execution_count": 13,
   "metadata": {
    "colab": {
     "base_uri": "https://localhost:8080/",
     "height": 289
    },
    "colab_type": "code",
    "id": "T-gtYb6pXOio",
    "outputId": "6580acd0-7ee0-4326-eb4b-b3a61eb41d4e"
   },
   "outputs": [
    {
     "data": {
      "text/html": [
       "<div>\n",
       "<style scoped>\n",
       "    .dataframe tbody tr th:only-of-type {\n",
       "        vertical-align: middle;\n",
       "    }\n",
       "\n",
       "    .dataframe tbody tr th {\n",
       "        vertical-align: top;\n",
       "    }\n",
       "\n",
       "    .dataframe thead th {\n",
       "        text-align: right;\n",
       "    }\n",
       "</style>\n",
       "<table border=\"1\" class=\"dataframe\">\n",
       "  <thead>\n",
       "    <tr style=\"text-align: right;\">\n",
       "      <th></th>\n",
       "      <th>productId</th>\n",
       "      <th>Title</th>\n",
       "      <th>userId</th>\n",
       "      <th>Helpfulness</th>\n",
       "      <th>Score</th>\n",
       "      <th>Time</th>\n",
       "      <th>Text</th>\n",
       "      <th>Cat1</th>\n",
       "      <th>Cat2</th>\n",
       "      <th>Cat3</th>\n",
       "    </tr>\n",
       "  </thead>\n",
       "  <tbody>\n",
       "    <tr>\n",
       "      <th>0</th>\n",
       "      <td>B000E46LYG</td>\n",
       "      <td>Golden Valley Natural Buffalo Jerky</td>\n",
       "      <td>A3MQDNGHDJU4MK</td>\n",
       "      <td>0/0</td>\n",
       "      <td>3.0</td>\n",
       "      <td>-1</td>\n",
       "      <td>description photo product needs changed indica...</td>\n",
       "      <td>grocery gourmet food</td>\n",
       "      <td>meat poultry</td>\n",
       "      <td>jerky</td>\n",
       "    </tr>\n",
       "    <tr>\n",
       "      <th>1</th>\n",
       "      <td>B000GRA6N8</td>\n",
       "      <td>Westing Game</td>\n",
       "      <td>unknown</td>\n",
       "      <td>0/0</td>\n",
       "      <td>5.0</td>\n",
       "      <td>860630400</td>\n",
       "      <td>great book well thought easily imagine events ...</td>\n",
       "      <td>toys games</td>\n",
       "      <td>games</td>\n",
       "      <td>unknown</td>\n",
       "    </tr>\n",
       "    <tr>\n",
       "      <th>2</th>\n",
       "      <td>B000GRA6N8</td>\n",
       "      <td>Westing Game</td>\n",
       "      <td>unknown</td>\n",
       "      <td>0/0</td>\n",
       "      <td>5.0</td>\n",
       "      <td>883008000</td>\n",
       "      <td>first year teacher teaching 5th grade special ...</td>\n",
       "      <td>toys games</td>\n",
       "      <td>games</td>\n",
       "      <td>unknown</td>\n",
       "    </tr>\n",
       "    <tr>\n",
       "      <th>3</th>\n",
       "      <td>B000GRA6N8</td>\n",
       "      <td>Westing Game</td>\n",
       "      <td>unknown</td>\n",
       "      <td>0/0</td>\n",
       "      <td>5.0</td>\n",
       "      <td>897696000</td>\n",
       "      <td>got book bookfair school looking something sum...</td>\n",
       "      <td>toys games</td>\n",
       "      <td>games</td>\n",
       "      <td>unknown</td>\n",
       "    </tr>\n",
       "    <tr>\n",
       "      <th>4</th>\n",
       "      <td>B00000DMDQ</td>\n",
       "      <td>I SPY A is For Jigsaw Puzzle 63pc</td>\n",
       "      <td>unknown</td>\n",
       "      <td>2/4</td>\n",
       "      <td>5.0</td>\n",
       "      <td>911865600</td>\n",
       "      <td>hi im martine redman created puzzle briarpatch...</td>\n",
       "      <td>toys games</td>\n",
       "      <td>puzzles</td>\n",
       "      <td>jigsaw puzzles</td>\n",
       "    </tr>\n",
       "  </tbody>\n",
       "</table>\n",
       "</div>"
      ],
      "text/plain": [
       "    productId                                Title          userId  \\\n",
       "0  B000E46LYG  Golden Valley Natural Buffalo Jerky  A3MQDNGHDJU4MK   \n",
       "1  B000GRA6N8                         Westing Game         unknown   \n",
       "2  B000GRA6N8                         Westing Game         unknown   \n",
       "3  B000GRA6N8                         Westing Game         unknown   \n",
       "4  B00000DMDQ    I SPY A is For Jigsaw Puzzle 63pc         unknown   \n",
       "\n",
       "  Helpfulness  Score       Time  \\\n",
       "0         0/0    3.0         -1   \n",
       "1         0/0    5.0  860630400   \n",
       "2         0/0    5.0  883008000   \n",
       "3         0/0    5.0  897696000   \n",
       "4         2/4    5.0  911865600   \n",
       "\n",
       "                                                Text                  Cat1  \\\n",
       "0  description photo product needs changed indica...  grocery gourmet food   \n",
       "1  great book well thought easily imagine events ...            toys games   \n",
       "2  first year teacher teaching 5th grade special ...            toys games   \n",
       "3  got book bookfair school looking something sum...            toys games   \n",
       "4  hi im martine redman created puzzle briarpatch...            toys games   \n",
       "\n",
       "           Cat2            Cat3  \n",
       "0  meat poultry           jerky  \n",
       "1         games         unknown  \n",
       "2         games         unknown  \n",
       "3         games         unknown  \n",
       "4       puzzles  jigsaw puzzles  "
      ]
     },
     "execution_count": 13,
     "metadata": {},
     "output_type": "execute_result"
    }
   ],
   "source": [
    "# Getting rid of stop words\n",
    "def remove_stopwords(text):\n",
    "    return \" \".join([word for word in str(text).split() if word not in set(stopwords.words('english'))])\n",
    "\n",
    "data[\"Text\"] = data[\"Text\"].apply(lambda text: remove_stopwords(text))\n",
    "data.head()"
   ]
  },
  {
   "cell_type": "code",
   "execution_count": 14,
   "metadata": {},
   "outputs": [],
   "source": [
    "# Getting rid of unknown users\n",
    "indexNames = data[data['userId'] == 'unknown' ].index\n",
    "data.drop(indexNames , inplace=True)"
   ]
  },
  {
   "cell_type": "code",
   "execution_count": 15,
   "metadata": {
    "colab": {},
    "colab_type": "code",
    "id": "r3AU0gxzhuZ2"
   },
   "outputs": [],
   "source": [
    "# Creating product dataframe\n",
    "product_data = pd.DataFrame(data,columns=['productId','Title','Cat1','Cat2','Cat3'])\n",
    "product_data['Title'] = product_data['Title'].fillna('NA')"
   ]
  },
  {
   "cell_type": "code",
   "execution_count": 16,
   "metadata": {
    "colab": {
     "base_uri": "https://localhost:8080/",
     "height": 204
    },
    "colab_type": "code",
    "id": "dsnow1klhuci",
    "outputId": "0dbe3cf7-6c32-46bd-887a-13f39a909061"
   },
   "outputs": [
    {
     "data": {
      "text/html": [
       "<div>\n",
       "<style scoped>\n",
       "    .dataframe tbody tr th:only-of-type {\n",
       "        vertical-align: middle;\n",
       "    }\n",
       "\n",
       "    .dataframe tbody tr th {\n",
       "        vertical-align: top;\n",
       "    }\n",
       "\n",
       "    .dataframe thead th {\n",
       "        text-align: right;\n",
       "    }\n",
       "</style>\n",
       "<table border=\"1\" class=\"dataframe\">\n",
       "  <thead>\n",
       "    <tr style=\"text-align: right;\">\n",
       "      <th></th>\n",
       "      <th>userId</th>\n",
       "      <th>Text</th>\n",
       "    </tr>\n",
       "  </thead>\n",
       "  <tbody>\n",
       "    <tr>\n",
       "      <th>0</th>\n",
       "      <td>A3MQDNGHDJU4MK</td>\n",
       "      <td>description photo product needs changed indica...</td>\n",
       "    </tr>\n",
       "    <tr>\n",
       "      <th>51</th>\n",
       "      <td>AL91D1BD8J3WG</td>\n",
       "      <td>ive used batteries entire life everything smok...</td>\n",
       "    </tr>\n",
       "    <tr>\n",
       "      <th>88</th>\n",
       "      <td>A2AXQTB83VMK4L</td>\n",
       "      <td>easy enough learn get child pokemon still game...</td>\n",
       "    </tr>\n",
       "    <tr>\n",
       "      <th>105</th>\n",
       "      <td>A1048CYU0OV4O8</td>\n",
       "      <td>one movie movie collection filled comedy actio...</td>\n",
       "    </tr>\n",
       "    <tr>\n",
       "      <th>220</th>\n",
       "      <td>A2VEX3YDK12LWE</td>\n",
       "      <td>one ofthe best ever heard naturetype new age m...</td>\n",
       "    </tr>\n",
       "  </tbody>\n",
       "</table>\n",
       "</div>"
      ],
      "text/plain": [
       "             userId                                               Text\n",
       "0    A3MQDNGHDJU4MK  description photo product needs changed indica...\n",
       "51    AL91D1BD8J3WG  ive used batteries entire life everything smok...\n",
       "88   A2AXQTB83VMK4L  easy enough learn get child pokemon still game...\n",
       "105  A1048CYU0OV4O8  one movie movie collection filled comedy actio...\n",
       "220  A2VEX3YDK12LWE  one ofthe best ever heard naturetype new age m..."
      ]
     },
     "execution_count": 16,
     "metadata": {},
     "output_type": "execute_result"
    }
   ],
   "source": [
    "# Creating user dataframe\n",
    "user_data = pd.DataFrame(data,columns=['userId','Text'])\n",
    "user_data.head()"
   ]
  },
  {
   "cell_type": "code",
   "execution_count": 17,
   "metadata": {
    "colab": {},
    "colab_type": "code",
    "id": "HfD9JWgppM5b"
   },
   "outputs": [],
   "source": [
    "# Creating a userID dataframe \n",
    "data_index = pd.DataFrame(data,columns=['userId'])\n",
    "data_index.index.name = 'index'"
   ]
  },
  {
   "cell_type": "code",
   "execution_count": 18,
   "metadata": {
    "colab": {},
    "colab_type": "code",
    "id": "c1s-PCb3zunN"
   },
   "outputs": [],
   "source": [
    "# Combining all the columns of product data except productId\n",
    "product_data['product_text'] = product_data['Cat1']"
   ]
  },
  {
   "cell_type": "code",
   "execution_count": 19,
   "metadata": {
    "colab": {},
    "colab_type": "code",
    "id": "JRRg6trO28cT"
   },
   "outputs": [
    {
     "data": {
      "text/html": [
       "<div>\n",
       "<style scoped>\n",
       "    .dataframe tbody tr th:only-of-type {\n",
       "        vertical-align: middle;\n",
       "    }\n",
       "\n",
       "    .dataframe tbody tr th {\n",
       "        vertical-align: top;\n",
       "    }\n",
       "\n",
       "    .dataframe thead th {\n",
       "        text-align: right;\n",
       "    }\n",
       "</style>\n",
       "<table border=\"1\" class=\"dataframe\">\n",
       "  <thead>\n",
       "    <tr style=\"text-align: right;\">\n",
       "      <th></th>\n",
       "      <th>productId</th>\n",
       "      <th>Title</th>\n",
       "      <th>Cat1</th>\n",
       "      <th>Cat2</th>\n",
       "      <th>Cat3</th>\n",
       "      <th>product_text</th>\n",
       "    </tr>\n",
       "    <tr>\n",
       "      <th>index</th>\n",
       "      <th></th>\n",
       "      <th></th>\n",
       "      <th></th>\n",
       "      <th></th>\n",
       "      <th></th>\n",
       "      <th></th>\n",
       "    </tr>\n",
       "  </thead>\n",
       "  <tbody>\n",
       "    <tr>\n",
       "      <th>0</th>\n",
       "      <td>B000E46LYG</td>\n",
       "      <td>Golden Valley Natural Buffalo Jerky</td>\n",
       "      <td>grocery gourmet food</td>\n",
       "      <td>meat poultry</td>\n",
       "      <td>jerky</td>\n",
       "      <td>grocery gourmet food</td>\n",
       "    </tr>\n",
       "    <tr>\n",
       "      <th>51</th>\n",
       "      <td>B00000JHQ0</td>\n",
       "      <td>Duracell MN2400B2 AAA Alkaline Batteries (Pair)</td>\n",
       "      <td>health personal care</td>\n",
       "      <td>household supplies</td>\n",
       "      <td>household batteries</td>\n",
       "      <td>health personal care</td>\n",
       "    </tr>\n",
       "    <tr>\n",
       "      <th>88</th>\n",
       "      <td>B00000IWGB</td>\n",
       "      <td>Pokemon Master Trainer 2001</td>\n",
       "      <td>toys games</td>\n",
       "      <td>games</td>\n",
       "      <td>board games</td>\n",
       "      <td>toys games</td>\n",
       "    </tr>\n",
       "    <tr>\n",
       "      <th>105</th>\n",
       "      <td>B00004CI84</td>\n",
       "      <td>Beetle Juice [VHS] (1988)</td>\n",
       "      <td>grocery gourmet food</td>\n",
       "      <td>beverages</td>\n",
       "      <td>juices</td>\n",
       "      <td>grocery gourmet food</td>\n",
       "    </tr>\n",
       "    <tr>\n",
       "      <th>220</th>\n",
       "      <td>B0000017QZ</td>\n",
       "      <td>Forest Rain</td>\n",
       "      <td>health personal care</td>\n",
       "      <td>health care</td>\n",
       "      <td>stress reduction</td>\n",
       "      <td>health personal care</td>\n",
       "    </tr>\n",
       "  </tbody>\n",
       "</table>\n",
       "</div>"
      ],
      "text/plain": [
       "        productId                                            Title  \\\n",
       "index                                                                \n",
       "0      B000E46LYG              Golden Valley Natural Buffalo Jerky   \n",
       "51     B00000JHQ0  Duracell MN2400B2 AAA Alkaline Batteries (Pair)   \n",
       "88     B00000IWGB                      Pokemon Master Trainer 2001   \n",
       "105    B00004CI84                        Beetle Juice [VHS] (1988)   \n",
       "220    B0000017QZ                                      Forest Rain   \n",
       "\n",
       "                       Cat1                Cat2                 Cat3  \\\n",
       "index                                                                  \n",
       "0      grocery gourmet food        meat poultry                jerky   \n",
       "51     health personal care  household supplies  household batteries   \n",
       "88               toys games               games          board games   \n",
       "105    grocery gourmet food           beverages               juices   \n",
       "220    health personal care         health care     stress reduction   \n",
       "\n",
       "               product_text  \n",
       "index                        \n",
       "0      grocery gourmet food  \n",
       "51     health personal care  \n",
       "88               toys games  \n",
       "105    grocery gourmet food  \n",
       "220    health personal care  "
      ]
     },
     "execution_count": 19,
     "metadata": {},
     "output_type": "execute_result"
    }
   ],
   "source": [
    "# Cleaning the product_text column\n",
    "product_data[\"product_text\"] = product_data[\"product_text\"].apply(lambda text: to_lowercase(text))\n",
    "product_data[\"product_text\"] = product_data[\"product_text\"].apply(lambda text: remove_punctuation(text))\n",
    "product_data[\"product_text\"] = product_data[\"product_text\"].apply(lambda text: remove_stopwords(text))\n",
    "product_data.head()"
   ]
  },
  {
   "cell_type": "markdown",
   "metadata": {
    "colab_type": "text",
    "id": "HXGKUMEl9c-Y"
   },
   "source": [
    "# Using tf-Idf"
   ]
  },
  {
   "cell_type": "code",
   "execution_count": 20,
   "metadata": {
    "colab": {
     "base_uri": "https://localhost:8080/",
     "height": 51
    },
    "colab_type": "code",
    "id": "6YLfpyhY5ZpT",
    "outputId": "76dbecc6-e067-4ef6-9965-2898a2499db6"
   },
   "outputs": [
    {
     "data": {
      "text/plain": [
       "<18109x46835 sparse matrix of type '<class 'numpy.float64'>'\n",
       "\twith 646535 stored elements in Compressed Sparse Row format>"
      ]
     },
     "execution_count": 20,
     "metadata": {},
     "output_type": "execute_result"
    }
   ],
   "source": [
    "# fitting and transforming the vector\n",
    "from sklearn.feature_extraction.text import TfidfVectorizer\n",
    "tfidf_vectorizer = TfidfVectorizer()\n",
    "tfidf_userid = tfidf_vectorizer.fit_transform((user_data['Text'])) \n",
    "tfidf_userid"
   ]
  },
  {
   "cell_type": "code",
   "execution_count": 21,
   "metadata": {
    "colab": {
     "base_uri": "https://localhost:8080/",
     "height": 390
    },
    "colab_type": "code",
    "id": "K3imsuYjwkLz",
    "outputId": "feefc144-4280-42f6-a007-817b024f9e4f"
   },
   "outputs": [
    {
     "data": {
      "text/html": [
       "<div>\n",
       "<style scoped>\n",
       "    .dataframe tbody tr th:only-of-type {\n",
       "        vertical-align: middle;\n",
       "    }\n",
       "\n",
       "    .dataframe tbody tr th {\n",
       "        vertical-align: top;\n",
       "    }\n",
       "\n",
       "    .dataframe thead th {\n",
       "        text-align: right;\n",
       "    }\n",
       "</style>\n",
       "<table border=\"1\" class=\"dataframe\">\n",
       "  <thead>\n",
       "    <tr style=\"text-align: right;\">\n",
       "      <th></th>\n",
       "      <th>userId</th>\n",
       "      <th>similarity_score</th>\n",
       "    </tr>\n",
       "    <tr>\n",
       "      <th>Target_userid</th>\n",
       "      <th></th>\n",
       "      <th></th>\n",
       "    </tr>\n",
       "  </thead>\n",
       "  <tbody>\n",
       "    <tr>\n",
       "      <th>A3MQDNGHDJU4MK</th>\n",
       "      <td>A3MQDNGHDJU4MK</td>\n",
       "      <td>1.000000</td>\n",
       "    </tr>\n",
       "    <tr>\n",
       "      <th>A3MQDNGHDJU4MK</th>\n",
       "      <td>A2WFPXW7SZRO7E</td>\n",
       "      <td>0.278728</td>\n",
       "    </tr>\n",
       "    <tr>\n",
       "      <th>A3MQDNGHDJU4MK</th>\n",
       "      <td>A17ZMCYTC61SVI</td>\n",
       "      <td>0.332948</td>\n",
       "    </tr>\n",
       "    <tr>\n",
       "      <th>A3MQDNGHDJU4MK</th>\n",
       "      <td>AMMWXVR95HRTK</td>\n",
       "      <td>0.275149</td>\n",
       "    </tr>\n",
       "    <tr>\n",
       "      <th>A3MQDNGHDJU4MK</th>\n",
       "      <td>A2TC1JFZN54TKB</td>\n",
       "      <td>0.309970</td>\n",
       "    </tr>\n",
       "    <tr>\n",
       "      <th>A3MQDNGHDJU4MK</th>\n",
       "      <td>A2CKO9HKCD063N</td>\n",
       "      <td>0.288749</td>\n",
       "    </tr>\n",
       "    <tr>\n",
       "      <th>A3MQDNGHDJU4MK</th>\n",
       "      <td>A3UIZ66QDFHSAB</td>\n",
       "      <td>0.283539</td>\n",
       "    </tr>\n",
       "    <tr>\n",
       "      <th>A3MQDNGHDJU4MK</th>\n",
       "      <td>A3JXE7KEMIJFBO</td>\n",
       "      <td>0.233996</td>\n",
       "    </tr>\n",
       "    <tr>\n",
       "      <th>A3MQDNGHDJU4MK</th>\n",
       "      <td>A2I18AO597DSDI</td>\n",
       "      <td>0.323607</td>\n",
       "    </tr>\n",
       "    <tr>\n",
       "      <th>A3MQDNGHDJU4MK</th>\n",
       "      <td>A1B64OPBL06ZV9</td>\n",
       "      <td>0.231321</td>\n",
       "    </tr>\n",
       "  </tbody>\n",
       "</table>\n",
       "</div>"
      ],
      "text/plain": [
       "                        userId  similarity_score\n",
       "Target_userid                                   \n",
       "A3MQDNGHDJU4MK  A3MQDNGHDJU4MK          1.000000\n",
       "A3MQDNGHDJU4MK  A2WFPXW7SZRO7E          0.278728\n",
       "A3MQDNGHDJU4MK  A17ZMCYTC61SVI          0.332948\n",
       "A3MQDNGHDJU4MK   AMMWXVR95HRTK          0.275149\n",
       "A3MQDNGHDJU4MK  A2TC1JFZN54TKB          0.309970\n",
       "A3MQDNGHDJU4MK  A2CKO9HKCD063N          0.288749\n",
       "A3MQDNGHDJU4MK  A3UIZ66QDFHSAB          0.283539\n",
       "A3MQDNGHDJU4MK  A3JXE7KEMIJFBO          0.233996\n",
       "A3MQDNGHDJU4MK  A2I18AO597DSDI          0.323607\n",
       "A3MQDNGHDJU4MK  A1B64OPBL06ZV9          0.231321"
      ]
     },
     "execution_count": 21,
     "metadata": {},
     "output_type": "execute_result"
    }
   ],
   "source": [
    "# Determining the user similarity using tf-idf\n",
    "\n",
    "from sklearn.metrics.pairwise import linear_kernel\n",
    "user_ids = []\n",
    "# similarity_score = []\n",
    "cosine_similarities = linear_kernel(tfidf_userid[0:1], tfidf_userid).flatten()\n",
    "similarity_score = pd.DataFrame(data = cosine_similarities,columns=['similarity_score'])\n",
    "\n",
    "similarity_score.index.name = 'index'\n",
    "similarity_score['Target_userid'] = 'A3MQDNGHDJU4MK'\n",
    "\n",
    "# similar_movies_set = pd.merge(movie_sim1,movies_set,on='movieId')\n",
    "similarity_score = similarity_score.nlargest(10,'similarity_score')\n",
    "similarity_score = pd.merge(data_index,similarity_score,on='index')\n",
    "similarity_score = similarity_score.set_index(['Target_userid'])\n",
    "\n",
    "similarity_score.head(10)"
   ]
  },
  {
   "cell_type": "markdown",
   "metadata": {
    "colab_type": "text",
    "id": "BS2ILHiVwhmb"
   },
   "source": [
    "# Using KNN"
   ]
  },
  {
   "cell_type": "code",
   "execution_count": 22,
   "metadata": {
    "colab": {},
    "colab_type": "code",
    "id": "UXsBfMJvZmAh"
   },
   "outputs": [],
   "source": [
    "from sklearn.neighbors import NearestNeighbors\n",
    "n_neighbors = 10\n",
    "KNN = NearestNeighbors(n_neighbors,metric = 'cosine', algorithm = 'brute')\n",
    "KNN.fit(tfidf_userid)\n",
    "NNs = KNN.kneighbors(tfidf_userid, return_distance=True)"
   ]
  },
  {
   "cell_type": "code",
   "execution_count": 23,
   "metadata": {
    "colab": {
     "base_uri": "https://localhost:8080/",
     "height": 359
    },
    "colab_type": "code",
    "id": "iwQYZDaTa9-_",
    "outputId": "654271ea-ee50-4ae8-a49c-310bb61d60de"
   },
   "outputs": [
    {
     "data": {
      "text/html": [
       "<div>\n",
       "<style scoped>\n",
       "    .dataframe tbody tr th:only-of-type {\n",
       "        vertical-align: middle;\n",
       "    }\n",
       "\n",
       "    .dataframe tbody tr th {\n",
       "        vertical-align: top;\n",
       "    }\n",
       "\n",
       "    .dataframe thead th {\n",
       "        text-align: right;\n",
       "    }\n",
       "</style>\n",
       "<table border=\"1\" class=\"dataframe\">\n",
       "  <thead>\n",
       "    <tr style=\"text-align: right;\">\n",
       "      <th></th>\n",
       "      <th>userId</th>\n",
       "      <th>sim_score</th>\n",
       "    </tr>\n",
       "    <tr>\n",
       "      <th>Target_user</th>\n",
       "      <th></th>\n",
       "      <th></th>\n",
       "    </tr>\n",
       "  </thead>\n",
       "  <tbody>\n",
       "    <tr>\n",
       "      <th>A2L6QTQQI13LZG</th>\n",
       "      <td>A2WFPXW7SZRO7E</td>\n",
       "      <td>0.721272</td>\n",
       "    </tr>\n",
       "    <tr>\n",
       "      <th>A2L6QTQQI13LZG</th>\n",
       "      <td>A17ZMCYTC61SVI</td>\n",
       "      <td>0.667052</td>\n",
       "    </tr>\n",
       "    <tr>\n",
       "      <th>A2L6QTQQI13LZG</th>\n",
       "      <td>AMMWXVR95HRTK</td>\n",
       "      <td>0.724851</td>\n",
       "    </tr>\n",
       "    <tr>\n",
       "      <th>A2L6QTQQI13LZG</th>\n",
       "      <td>A2TC1JFZN54TKB</td>\n",
       "      <td>0.690030</td>\n",
       "    </tr>\n",
       "    <tr>\n",
       "      <th>A2L6QTQQI13LZG</th>\n",
       "      <td>A2CKO9HKCD063N</td>\n",
       "      <td>0.711251</td>\n",
       "    </tr>\n",
       "    <tr>\n",
       "      <th>A2L6QTQQI13LZG</th>\n",
       "      <td>A3UIZ66QDFHSAB</td>\n",
       "      <td>0.716461</td>\n",
       "    </tr>\n",
       "    <tr>\n",
       "      <th>A2L6QTQQI13LZG</th>\n",
       "      <td>A3JXE7KEMIJFBO</td>\n",
       "      <td>0.766004</td>\n",
       "    </tr>\n",
       "    <tr>\n",
       "      <th>A2L6QTQQI13LZG</th>\n",
       "      <td>A2I18AO597DSDI</td>\n",
       "      <td>0.676393</td>\n",
       "    </tr>\n",
       "    <tr>\n",
       "      <th>A2L6QTQQI13LZG</th>\n",
       "      <td>A1B64OPBL06ZV9</td>\n",
       "      <td>0.768679</td>\n",
       "    </tr>\n",
       "  </tbody>\n",
       "</table>\n",
       "</div>"
      ],
      "text/plain": [
       "                        userId  sim_score\n",
       "Target_user                              \n",
       "A2L6QTQQI13LZG  A2WFPXW7SZRO7E   0.721272\n",
       "A2L6QTQQI13LZG  A17ZMCYTC61SVI   0.667052\n",
       "A2L6QTQQI13LZG   AMMWXVR95HRTK   0.724851\n",
       "A2L6QTQQI13LZG  A2TC1JFZN54TKB   0.690030\n",
       "A2L6QTQQI13LZG  A2CKO9HKCD063N   0.711251\n",
       "A2L6QTQQI13LZG  A3UIZ66QDFHSAB   0.716461\n",
       "A2L6QTQQI13LZG  A3JXE7KEMIJFBO   0.766004\n",
       "A2L6QTQQI13LZG  A2I18AO597DSDI   0.676393\n",
       "A2L6QTQQI13LZG  A1B64OPBL06ZV9   0.768679"
      ]
     },
     "execution_count": 23,
     "metadata": {},
     "output_type": "execute_result"
    }
   ],
   "source": [
    "# Determining the user similarity using KNN\n",
    "\n",
    "top = NNs[1][0][1:]\n",
    "index_score = NNs[0][0][1:]\n",
    "similarity_score = pd.DataFrame(data = top)\n",
    "user_ids = pd.DataFrame(data = index_score)\n",
    "user_sim = pd.concat([similarity_score.reindex(similarity_score.index),user_ids], axis=1)\n",
    "user_sim['Target_user'] = 'A2L6QTQQI13LZG' \n",
    "user_sim.columns = ['index','sim_score','Target_user']\n",
    "user_sim = pd.merge(data_index,user_sim,on='index')\n",
    "user_sim = user_sim.set_index(['Target_user'])\n",
    "user_sim = user_sim.drop(columns=['index'])\n",
    "user_sim.head(10)\n",
    "# len(index_score)"
   ]
  },
  {
   "cell_type": "markdown",
   "metadata": {
    "colab": {},
    "colab_type": "code",
    "id": "Dv_DddI0uRgu"
   },
   "source": [
    "# User similarity based on product data"
   ]
  },
  {
   "cell_type": "markdown",
   "metadata": {},
   "source": [
    "## tf-idf"
   ]
  },
  {
   "cell_type": "code",
   "execution_count": 24,
   "metadata": {
    "colab": {
     "base_uri": "https://localhost:8080/"
    },
    "colab_type": "code",
    "id": "rdHC1oo-63nA",
    "outputId": "046f2a40-678e-4ab2-91d8-b84c988178ad"
   },
   "outputs": [],
   "source": [
    "# Selecting a product id\n",
    "u = 'B000E46LYG'\n",
    "index = np.where(product_data['productId'] == u)[0][0]\n",
    "product_sel = product_data.iloc[[index]]\n",
    "# product_sel"
   ]
  },
  {
   "cell_type": "code",
   "execution_count": 25,
   "metadata": {
    "colab": {
     "base_uri": "https://localhost:8080/"
    },
    "colab_type": "code",
    "id": "gNudbLqi5wAx",
    "outputId": "e4f0ea78-6a11-4ca6-bd05-12515e9b3530"
   },
   "outputs": [],
   "source": [
    "from sklearn.metrics.pairwise import cosine_similarity\n",
    "product_tfidf = tfidf_vectorizer.transform(product_sel['product_text'])\n",
    "cosine_similarity_tfidf = map(lambda x: cosine_similarity(product_tfidf, x),tfidf_userid)\n",
    "final = list(cosine_similarity_tfidf)"
   ]
  },
  {
   "cell_type": "code",
   "execution_count": 26,
   "metadata": {
    "colab": {
     "base_uri": "https://localhost:8080/"
    },
    "colab_type": "code",
    "id": "oPPBHF3F7jkw",
    "outputId": "b94c8d1f-f98d-44d4-9890-1d0d18aec641"
   },
   "outputs": [
    {
     "data": {
      "text/html": [
       "<div>\n",
       "<style scoped>\n",
       "    .dataframe tbody tr th:only-of-type {\n",
       "        vertical-align: middle;\n",
       "    }\n",
       "\n",
       "    .dataframe tbody tr th {\n",
       "        vertical-align: top;\n",
       "    }\n",
       "\n",
       "    .dataframe thead th {\n",
       "        text-align: right;\n",
       "    }\n",
       "</style>\n",
       "<table border=\"1\" class=\"dataframe\">\n",
       "  <thead>\n",
       "    <tr style=\"text-align: right;\">\n",
       "      <th></th>\n",
       "      <th>userId</th>\n",
       "      <th>sim_score</th>\n",
       "    </tr>\n",
       "    <tr>\n",
       "      <th>Target_product_id</th>\n",
       "      <th></th>\n",
       "      <th></th>\n",
       "    </tr>\n",
       "  </thead>\n",
       "  <tbody>\n",
       "    <tr>\n",
       "      <th>B000E46LYG</th>\n",
       "      <td>A27DS4Y8BPRGHU</td>\n",
       "      <td>0.203538</td>\n",
       "    </tr>\n",
       "    <tr>\n",
       "      <th>B000E46LYG</th>\n",
       "      <td>A2CCK0VGMS547G</td>\n",
       "      <td>0.259258</td>\n",
       "    </tr>\n",
       "    <tr>\n",
       "      <th>B000E46LYG</th>\n",
       "      <td>A1KQOTF1C1D1V</td>\n",
       "      <td>0.240367</td>\n",
       "    </tr>\n",
       "    <tr>\n",
       "      <th>B000E46LYG</th>\n",
       "      <td>A1GENG7GVHB29W</td>\n",
       "      <td>0.243996</td>\n",
       "    </tr>\n",
       "    <tr>\n",
       "      <th>B000E46LYG</th>\n",
       "      <td>A3BOW4X2M7LRW6</td>\n",
       "      <td>0.223317</td>\n",
       "    </tr>\n",
       "    <tr>\n",
       "      <th>B000E46LYG</th>\n",
       "      <td>ACVMBJFPUFJLS</td>\n",
       "      <td>0.243379</td>\n",
       "    </tr>\n",
       "    <tr>\n",
       "      <th>B000E46LYG</th>\n",
       "      <td>A11LZJSJ67IAB2</td>\n",
       "      <td>0.211989</td>\n",
       "    </tr>\n",
       "    <tr>\n",
       "      <th>B000E46LYG</th>\n",
       "      <td>A3KS7Z8KA1KOTE</td>\n",
       "      <td>0.234812</td>\n",
       "    </tr>\n",
       "    <tr>\n",
       "      <th>B000E46LYG</th>\n",
       "      <td>AU5777PSJO8WQ</td>\n",
       "      <td>0.232943</td>\n",
       "    </tr>\n",
       "    <tr>\n",
       "      <th>B000E46LYG</th>\n",
       "      <td>AONT4LVMGIQYV</td>\n",
       "      <td>0.217850</td>\n",
       "    </tr>\n",
       "  </tbody>\n",
       "</table>\n",
       "</div>"
      ],
      "text/plain": [
       "                           userId  sim_score\n",
       "Target_product_id                           \n",
       "B000E46LYG         A27DS4Y8BPRGHU   0.203538\n",
       "B000E46LYG         A2CCK0VGMS547G   0.259258\n",
       "B000E46LYG          A1KQOTF1C1D1V   0.240367\n",
       "B000E46LYG         A1GENG7GVHB29W   0.243996\n",
       "B000E46LYG         A3BOW4X2M7LRW6   0.223317\n",
       "B000E46LYG          ACVMBJFPUFJLS   0.243379\n",
       "B000E46LYG         A11LZJSJ67IAB2   0.211989\n",
       "B000E46LYG         A3KS7Z8KA1KOTE   0.234812\n",
       "B000E46LYG          AU5777PSJO8WQ   0.232943\n",
       "B000E46LYG          AONT4LVMGIQYV   0.217850"
      ]
     },
     "execution_count": 26,
     "metadata": {},
     "output_type": "execute_result"
    }
   ],
   "source": [
    "highest =  sorted(range(len(final)), key=lambda i: final[i], reverse=True)[:10]\n",
    "scores = [final[i][0][0] for i in highest]\n",
    "\n",
    "user_id = pd.DataFrame(data = highest)\n",
    "sim_scores = pd.DataFrame(data = scores)\n",
    "\n",
    "user_sim = pd.concat([user_id.reindex(user_id.index),sim_scores], axis=1)\n",
    "user_sim['Target_product_id'] = 'B000E46LYG' \n",
    "user_sim.columns = ['index','sim_score','Target_product_id']\n",
    "user_sim = pd.merge(data_index,user_sim,on='index')\n",
    "user_sim = user_sim.set_index(['Target_product_id'])\n",
    "user_sim = user_sim.drop(columns=['index'])\n",
    "\n",
    "user_sim.head(10)"
   ]
  },
  {
   "cell_type": "markdown",
   "metadata": {
    "colab_type": "text",
    "id": "XTAmO-ZR9mtl"
   },
   "source": [
    "## Count vectorizer"
   ]
  },
  {
   "cell_type": "code",
   "execution_count": 27,
   "metadata": {
    "colab": {},
    "colab_type": "code",
    "id": "8iBicUMn9rpU"
   },
   "outputs": [
    {
     "data": {
      "text/plain": [
       "<18109x46835 sparse matrix of type '<class 'numpy.int64'>'\n",
       "\twith 646535 stored elements in Compressed Sparse Row format>"
      ]
     },
     "execution_count": 27,
     "metadata": {},
     "output_type": "execute_result"
    }
   ],
   "source": [
    "from sklearn.feature_extraction.text import CountVectorizer\n",
    "\n",
    "count_vectorizer = CountVectorizer()\n",
    "\n",
    "#fitting and transforming the vector\n",
    "count_userid = count_vectorizer.fit_transform((user_data['Text'])) \n",
    "\n",
    "count_userid"
   ]
  },
  {
   "cell_type": "code",
   "execution_count": 28,
   "metadata": {
    "colab": {},
    "colab_type": "code",
    "id": "y7ot8qfU9xj8"
   },
   "outputs": [],
   "source": [
    "from sklearn.metrics.pairwise import cosine_similarity\n",
    "\n",
    "product_vec = count_vectorizer.transform(product_sel['product_text'])\n",
    "cosine_similarity_countv = map(lambda x: cosine_similarity(product_vec, x),count_userid)\n",
    "\n",
    "final_1 = list(cosine_similarity_countv)"
   ]
  },
  {
   "cell_type": "code",
   "execution_count": 29,
   "metadata": {
    "colab": {},
    "colab_type": "code",
    "id": "CnyQ3F6A9xmm"
   },
   "outputs": [
    {
     "data": {
      "text/html": [
       "<div>\n",
       "<style scoped>\n",
       "    .dataframe tbody tr th:only-of-type {\n",
       "        vertical-align: middle;\n",
       "    }\n",
       "\n",
       "    .dataframe tbody tr th {\n",
       "        vertical-align: top;\n",
       "    }\n",
       "\n",
       "    .dataframe thead th {\n",
       "        text-align: right;\n",
       "    }\n",
       "</style>\n",
       "<table border=\"1\" class=\"dataframe\">\n",
       "  <thead>\n",
       "    <tr style=\"text-align: right;\">\n",
       "      <th></th>\n",
       "      <th>userId</th>\n",
       "      <th>sim_score</th>\n",
       "    </tr>\n",
       "    <tr>\n",
       "      <th>Target_product_id</th>\n",
       "      <th></th>\n",
       "      <th></th>\n",
       "    </tr>\n",
       "  </thead>\n",
       "  <tbody>\n",
       "    <tr>\n",
       "      <th>B000E46LYG</th>\n",
       "      <td>A1WEGU35F3JPUD</td>\n",
       "      <td>0.280976</td>\n",
       "    </tr>\n",
       "    <tr>\n",
       "      <th>B000E46LYG</th>\n",
       "      <td>A3IUDWDKA2G1KO</td>\n",
       "      <td>0.264906</td>\n",
       "    </tr>\n",
       "    <tr>\n",
       "      <th>B000E46LYG</th>\n",
       "      <td>A1KQOTF1C1D1V</td>\n",
       "      <td>0.309298</td>\n",
       "    </tr>\n",
       "    <tr>\n",
       "      <th>B000E46LYG</th>\n",
       "      <td>A3NUCFQJOWDYWH</td>\n",
       "      <td>0.268028</td>\n",
       "    </tr>\n",
       "    <tr>\n",
       "      <th>B000E46LYG</th>\n",
       "      <td>A33A5KMU2XFPO2</td>\n",
       "      <td>0.293294</td>\n",
       "    </tr>\n",
       "    <tr>\n",
       "      <th>B000E46LYG</th>\n",
       "      <td>A244A262RZD99L</td>\n",
       "      <td>0.264906</td>\n",
       "    </tr>\n",
       "    <tr>\n",
       "      <th>B000E46LYG</th>\n",
       "      <td>A1WNA1MRESBUZ6</td>\n",
       "      <td>0.284747</td>\n",
       "    </tr>\n",
       "    <tr>\n",
       "      <th>B000E46LYG</th>\n",
       "      <td>A3OXRYNHGH4OA1</td>\n",
       "      <td>0.268028</td>\n",
       "    </tr>\n",
       "    <tr>\n",
       "      <th>B000E46LYG</th>\n",
       "      <td>A3KS7Z8KA1KOTE</td>\n",
       "      <td>0.314485</td>\n",
       "    </tr>\n",
       "  </tbody>\n",
       "</table>\n",
       "</div>"
      ],
      "text/plain": [
       "                           userId  sim_score\n",
       "Target_product_id                           \n",
       "B000E46LYG         A1WEGU35F3JPUD   0.280976\n",
       "B000E46LYG         A3IUDWDKA2G1KO   0.264906\n",
       "B000E46LYG          A1KQOTF1C1D1V   0.309298\n",
       "B000E46LYG         A3NUCFQJOWDYWH   0.268028\n",
       "B000E46LYG         A33A5KMU2XFPO2   0.293294\n",
       "B000E46LYG         A244A262RZD99L   0.264906\n",
       "B000E46LYG         A1WNA1MRESBUZ6   0.284747\n",
       "B000E46LYG         A3OXRYNHGH4OA1   0.268028\n",
       "B000E46LYG         A3KS7Z8KA1KOTE   0.314485"
      ]
     },
     "execution_count": 29,
     "metadata": {},
     "output_type": "execute_result"
    }
   ],
   "source": [
    "highest = sorted(range(len(final_1)), key=lambda i: final_1[i], reverse=True)[:10]\n",
    "scores = [final_1[i][0][0] for i in highest]\n",
    "\n",
    "user_id = pd.DataFrame(data = highest)\n",
    "sim_scores = pd.DataFrame(data = scores)\n",
    "\n",
    "user_sim = pd.concat([user_id.reindex(user_id.index),sim_scores], axis=1)\n",
    "user_sim['Target_product_id'] = 'B000E46LYG' \n",
    "user_sim.columns = ['index','sim_score','Target_product_id']\n",
    "user_sim = pd.merge(data_index,user_sim,on='index')\n",
    "user_sim = user_sim.set_index(['Target_product_id'])\n",
    "user_sim = user_sim.drop(columns=['index'])\n",
    "\n",
    "\n",
    "user_sim.head(10)"
   ]
  },
  {
   "cell_type": "markdown",
   "metadata": {
    "colab_type": "text",
    "id": "KCa5YXte-lRQ"
   },
   "source": [
    "## KNN"
   ]
  },
  {
   "cell_type": "code",
   "execution_count": 30,
   "metadata": {
    "colab": {},
    "colab_type": "code",
    "id": "keJhQGas-n0s"
   },
   "outputs": [],
   "source": [
    "from sklearn.neighbors import NearestNeighbors\n",
    "n_neighbors = 10\n",
    "\n",
    "KNN = NearestNeighbors(n_neighbors,metric = 'cosine', algorithm = 'brute')\n",
    "KNN.fit(tfidf_userid)\n",
    "NNs = KNN.kneighbors(product_tfidf, return_distance=True)"
   ]
  },
  {
   "cell_type": "code",
   "execution_count": 31,
   "metadata": {
    "colab": {},
    "colab_type": "code",
    "id": "RaczcPTm_W_Z"
   },
   "outputs": [
    {
     "data": {
      "text/html": [
       "<div>\n",
       "<style scoped>\n",
       "    .dataframe tbody tr th:only-of-type {\n",
       "        vertical-align: middle;\n",
       "    }\n",
       "\n",
       "    .dataframe tbody tr th {\n",
       "        vertical-align: top;\n",
       "    }\n",
       "\n",
       "    .dataframe thead th {\n",
       "        text-align: right;\n",
       "    }\n",
       "</style>\n",
       "<table border=\"1\" class=\"dataframe\">\n",
       "  <thead>\n",
       "    <tr style=\"text-align: right;\">\n",
       "      <th></th>\n",
       "      <th>userId</th>\n",
       "      <th>sim_score</th>\n",
       "    </tr>\n",
       "    <tr>\n",
       "      <th>Target_product_id</th>\n",
       "      <th></th>\n",
       "      <th></th>\n",
       "    </tr>\n",
       "  </thead>\n",
       "  <tbody>\n",
       "    <tr>\n",
       "      <th>B000E46LYG</th>\n",
       "      <td>A27DS4Y8BPRGHU</td>\n",
       "      <td>0.796462</td>\n",
       "    </tr>\n",
       "    <tr>\n",
       "      <th>B000E46LYG</th>\n",
       "      <td>A1KQOTF1C1D1V</td>\n",
       "      <td>0.759633</td>\n",
       "    </tr>\n",
       "    <tr>\n",
       "      <th>B000E46LYG</th>\n",
       "      <td>A1GENG7GVHB29W</td>\n",
       "      <td>0.756004</td>\n",
       "    </tr>\n",
       "    <tr>\n",
       "      <th>B000E46LYG</th>\n",
       "      <td>A3BOW4X2M7LRW6</td>\n",
       "      <td>0.776683</td>\n",
       "    </tr>\n",
       "    <tr>\n",
       "      <th>B000E46LYG</th>\n",
       "      <td>ACVMBJFPUFJLS</td>\n",
       "      <td>0.756621</td>\n",
       "    </tr>\n",
       "    <tr>\n",
       "      <th>B000E46LYG</th>\n",
       "      <td>A11LZJSJ67IAB2</td>\n",
       "      <td>0.788011</td>\n",
       "    </tr>\n",
       "    <tr>\n",
       "      <th>B000E46LYG</th>\n",
       "      <td>A3KS7Z8KA1KOTE</td>\n",
       "      <td>0.765188</td>\n",
       "    </tr>\n",
       "    <tr>\n",
       "      <th>B000E46LYG</th>\n",
       "      <td>AU5777PSJO8WQ</td>\n",
       "      <td>0.767057</td>\n",
       "    </tr>\n",
       "    <tr>\n",
       "      <th>B000E46LYG</th>\n",
       "      <td>AONT4LVMGIQYV</td>\n",
       "      <td>0.782150</td>\n",
       "    </tr>\n",
       "  </tbody>\n",
       "</table>\n",
       "</div>"
      ],
      "text/plain": [
       "                           userId  sim_score\n",
       "Target_product_id                           \n",
       "B000E46LYG         A27DS4Y8BPRGHU   0.796462\n",
       "B000E46LYG          A1KQOTF1C1D1V   0.759633\n",
       "B000E46LYG         A1GENG7GVHB29W   0.756004\n",
       "B000E46LYG         A3BOW4X2M7LRW6   0.776683\n",
       "B000E46LYG          ACVMBJFPUFJLS   0.756621\n",
       "B000E46LYG         A11LZJSJ67IAB2   0.788011\n",
       "B000E46LYG         A3KS7Z8KA1KOTE   0.765188\n",
       "B000E46LYG          AU5777PSJO8WQ   0.767057\n",
       "B000E46LYG          AONT4LVMGIQYV   0.782150"
      ]
     },
     "execution_count": 31,
     "metadata": {},
     "output_type": "execute_result"
    }
   ],
   "source": [
    "top = NNs[1][0][1:]\n",
    "index_score = NNs[0][0][1:]\n",
    "\n",
    "similarity_score = pd.DataFrame(data = top)\n",
    "user_ids = pd.DataFrame(data = index_score)\n",
    "\n",
    "user_sim = pd.concat([similarity_score.reindex(similarity_score.index),user_ids], axis=1)\n",
    "user_sim['Target_product_id'] = 'B000E46LYG' \n",
    "user_sim.columns = ['index','sim_score','Target_product_id']\n",
    "user_sim = pd.merge(data_index,user_sim,on='index')\n",
    "user_sim = user_sim.set_index(['Target_product_id'])\n",
    "user_sim = user_sim.drop(columns=['index'])\n",
    "\n",
    "user_sim.head(10)"
   ]
  },
  {
   "cell_type": "markdown",
   "metadata": {
    "colab_type": "text",
    "id": "DlbTOxzwxJng"
   },
   "source": [
    "# Multi label text classification"
   ]
  },
  {
   "cell_type": "code",
   "execution_count": 32,
   "metadata": {
    "colab": {},
    "colab_type": "code",
    "id": "JEKdcEQexEHJ"
   },
   "outputs": [],
   "source": [
    "# pip install tensorflow"
   ]
  },
  {
   "cell_type": "code",
   "execution_count": 33,
   "metadata": {
    "colab": {
     "base_uri": "https://localhost:8080/",
     "height": 34
    },
    "colab_type": "code",
    "id": "zksvq-lsAIAm",
    "outputId": "9cba26e7-525b-4f1e-d945-dffa1f690282"
   },
   "outputs": [
    {
     "name": "stderr",
     "output_type": "stream",
     "text": [
      "Using TensorFlow backend.\n"
     ]
    }
   ],
   "source": [
    "from numpy import array\n",
    "from keras.preprocessing.text import one_hot\n",
    "from keras.preprocessing.sequence import pad_sequences\n",
    "from keras.models import Sequential\n",
    "from keras.layers.core import Activation, Dropout, Dense\n",
    "from keras.layers import Flatten, LSTM,Bidirectional\n",
    "from keras.layers import GlobalMaxPooling1D\n",
    "from keras.models import Model\n",
    "from keras.layers.embeddings import Embedding\n",
    "from sklearn.model_selection import train_test_split\n",
    "from keras.preprocessing.text import Tokenizer\n",
    "from keras.layers import Input\n",
    "from keras.layers.merge import Concatenate\n",
    "\n",
    "# import keras\n",
    "# from keras.models import Sequential\n",
    "from keras.layers import Dense\n",
    "# from keras.layers import Embedding\n",
    "# from keras.layers import Flatten\n",
    "from keras.layers import Conv1D\n",
    "from keras.optimizers import adam\n",
    "\n",
    "import pandas as pd\n",
    "import numpy as np\n",
    "import re\n",
    "\n",
    "import matplotlib.pyplot as plt"
   ]
  },
  {
   "cell_type": "code",
   "execution_count": 34,
   "metadata": {
    "colab": {
     "base_uri": "https://localhost:8080/",
     "height": 204
    },
    "colab_type": "code",
    "id": "FBLW9ClJxPZA",
    "outputId": "4b245a2a-fdb2-4e61-a491-da9de6e37791"
   },
   "outputs": [
    {
     "data": {
      "text/html": [
       "<div>\n",
       "<style scoped>\n",
       "    .dataframe tbody tr th:only-of-type {\n",
       "        vertical-align: middle;\n",
       "    }\n",
       "\n",
       "    .dataframe tbody tr th {\n",
       "        vertical-align: top;\n",
       "    }\n",
       "\n",
       "    .dataframe thead th {\n",
       "        text-align: right;\n",
       "    }\n",
       "</style>\n",
       "<table border=\"1\" class=\"dataframe\">\n",
       "  <thead>\n",
       "    <tr style=\"text-align: right;\">\n",
       "      <th></th>\n",
       "      <th>Text</th>\n",
       "      <th>Cat1</th>\n",
       "    </tr>\n",
       "    <tr>\n",
       "      <th>index</th>\n",
       "      <th></th>\n",
       "      <th></th>\n",
       "    </tr>\n",
       "  </thead>\n",
       "  <tbody>\n",
       "    <tr>\n",
       "      <th>0</th>\n",
       "      <td>description photo product needs changed indica...</td>\n",
       "      <td>grocery gourmet food</td>\n",
       "    </tr>\n",
       "    <tr>\n",
       "      <th>51</th>\n",
       "      <td>ive used batteries entire life everything smok...</td>\n",
       "      <td>health personal care</td>\n",
       "    </tr>\n",
       "    <tr>\n",
       "      <th>88</th>\n",
       "      <td>easy enough learn get child pokemon still game...</td>\n",
       "      <td>toys games</td>\n",
       "    </tr>\n",
       "    <tr>\n",
       "      <th>105</th>\n",
       "      <td>one movie movie collection filled comedy actio...</td>\n",
       "      <td>grocery gourmet food</td>\n",
       "    </tr>\n",
       "    <tr>\n",
       "      <th>220</th>\n",
       "      <td>one ofthe best ever heard naturetype new age m...</td>\n",
       "      <td>health personal care</td>\n",
       "    </tr>\n",
       "  </tbody>\n",
       "</table>\n",
       "</div>"
      ],
      "text/plain": [
       "                                                    Text                  Cat1\n",
       "index                                                                         \n",
       "0      description photo product needs changed indica...  grocery gourmet food\n",
       "51     ive used batteries entire life everything smok...  health personal care\n",
       "88     easy enough learn get child pokemon still game...            toys games\n",
       "105    one movie movie collection filled comedy actio...  grocery gourmet food\n",
       "220    one ofthe best ever heard naturetype new age m...  health personal care"
      ]
     },
     "execution_count": 34,
     "metadata": {},
     "output_type": "execute_result"
    }
   ],
   "source": [
    "classify_data = pd.DataFrame(data=data,columns=['Text','Cat1'])\n",
    "classify_data.head(5)"
   ]
  },
  {
   "cell_type": "code",
   "execution_count": 35,
   "metadata": {
    "colab": {},
    "colab_type": "code",
    "id": "aKclQPqFynir"
   },
   "outputs": [],
   "source": [
    "# sentences = []\n",
    "X = classify_data['Text']\n",
    "# len(X)"
   ]
  },
  {
   "cell_type": "code",
   "execution_count": 36,
   "metadata": {
    "colab": {},
    "colab_type": "code",
    "id": "2Lpw3bxezKOZ"
   },
   "outputs": [],
   "source": [
    "# label encoding the categories\n",
    "scale_mapper = {'pet supplies':1,'health personal care':2,'grocery gourmet food':3,'toys games':4,'beauty':5,'baby products':6}\n",
    "classify_data['Cat1_encoded'] = classify_data['Cat1'].replace(scale_mapper)"
   ]
  },
  {
   "cell_type": "code",
   "execution_count": 37,
   "metadata": {},
   "outputs": [
    {
     "data": {
      "text/plain": [
       "(18109,)"
      ]
     },
     "execution_count": 37,
     "metadata": {},
     "output_type": "execute_result"
    }
   ],
   "source": [
    "# y = pd.get_dummies(classify_data['Cat1_encoded']).values\n",
    "y = classify_data['Cat1_encoded']\n",
    "y.shape"
   ]
  },
  {
   "cell_type": "code",
   "execution_count": 38,
   "metadata": {},
   "outputs": [
    {
     "data": {
      "text/plain": [
       "(12676,)"
      ]
     },
     "execution_count": 38,
     "metadata": {},
     "output_type": "execute_result"
    }
   ],
   "source": [
    "# train test split\n",
    "X_train, X_test, y_train, y_test = train_test_split(X, y, test_size=0.30, random_state=10)\n",
    "X_train.shape"
   ]
  },
  {
   "cell_type": "markdown",
   "metadata": {},
   "source": [
    "# Naive bayes"
   ]
  },
  {
   "cell_type": "code",
   "execution_count": 39,
   "metadata": {},
   "outputs": [
    {
     "data": {
      "text/plain": [
       "CountVectorizer(analyzer='word', binary=False, decode_error='strict',\n",
       "                dtype=<class 'numpy.int64'>, encoding='utf-8', input='content',\n",
       "                lowercase=True, max_df=0.5, max_features=None, min_df=1,\n",
       "                ngram_range=(1, 1), preprocessor=None, stop_words=None,\n",
       "                strip_accents=None, token_pattern='(?u)\\\\b\\\\w\\\\w+\\\\b',\n",
       "                tokenizer=None, vocabulary=None)"
      ]
     },
     "execution_count": 39,
     "metadata": {},
     "output_type": "execute_result"
    }
   ],
   "source": [
    "from sklearn.feature_extraction.text import CountVectorizer\n",
    "\n",
    "count_vectorizer = CountVectorizer(max_df=0.5)\n",
    "count_vectorizer.fit(X_train)"
   ]
  },
  {
   "cell_type": "code",
   "execution_count": 40,
   "metadata": {},
   "outputs": [],
   "source": [
    "# X_train_cv = count_vectorizer.transform(X_train)\n",
    "X_train_cv = count_vectorizer.fit_transform(X_train)\n",
    "X_test_cv = count_vectorizer.transform(X_test)"
   ]
  },
  {
   "cell_type": "code",
   "execution_count": 41,
   "metadata": {},
   "outputs": [
    {
     "name": "stdout",
     "output_type": "stream",
     "text": [
      "Testing accuracy:  0.8177802319160685\n"
     ]
    }
   ],
   "source": [
    "from sklearn import metrics\n",
    "from sklearn.naive_bayes import MultinomialNB\n",
    "\n",
    "# 2. instantiate a Multinomial Naive Bayes model\n",
    "nb = MultinomialNB()\n",
    "\n",
    "#Train the model using the training sets\n",
    "nb.fit(X_train_cv, y_train)\n",
    "\n",
    "#Predict the response for test dataset\n",
    "y_pred = nb.predict(X_test_cv)\n",
    "print('Testing accuracy: ',metrics.accuracy_score(y_test, y_pred))"
   ]
  },
  {
   "cell_type": "markdown",
   "metadata": {},
   "source": [
    "# Keras sequential model"
   ]
  },
  {
   "cell_type": "code",
   "execution_count": 42,
   "metadata": {},
   "outputs": [
    {
     "name": "stdout",
     "output_type": "stream",
     "text": [
      "max input length is:  610\n"
     ]
    }
   ],
   "source": [
    "# Checking the input length\n",
    "input_lengths = [len(word_tokenize(x)) for x in X]\n",
    "sort = sorted(input_lengths)  #sorted lengths\n",
    "maxLength =sort[len(sort)-1]\n",
    "print(\"max input length is: \",maxLength)"
   ]
  },
  {
   "cell_type": "code",
   "execution_count": 43,
   "metadata": {},
   "outputs": [
    {
     "name": "stdout",
     "output_type": "stream",
     "text": [
      "70% cover input sequence length up to 48\n"
     ]
    }
   ],
   "source": [
    "maxLength = sort[int(len(sort) * 0.70)]\n",
    "print(\"70% cover input sequence length up to\",maxLength)"
   ]
  },
  {
   "cell_type": "code",
   "execution_count": 44,
   "metadata": {},
   "outputs": [],
   "source": [
    "# Creating dataframe containing product category and user text\n",
    "classify_data = pd.DataFrame(data=data,columns=['Text','Cat1'])"
   ]
  },
  {
   "cell_type": "code",
   "execution_count": 45,
   "metadata": {},
   "outputs": [],
   "source": [
    "X = classify_data['Text']"
   ]
  },
  {
   "cell_type": "code",
   "execution_count": 46,
   "metadata": {},
   "outputs": [],
   "source": [
    "# label encoding the categories\n",
    "scale_mapper = {'pet supplies':1,'health personal care':2,'grocery gourmet food':3,'toys games':4,'beauty':5,'baby products':6}\n",
    "classify_data['Cat1_encoded'] = classify_data['Cat1'].replace(scale_mapper)\n",
    "y = pd.get_dummies(classify_data['Cat1_encoded']).values"
   ]
  },
  {
   "cell_type": "code",
   "execution_count": 47,
   "metadata": {},
   "outputs": [
    {
     "data": {
      "text/plain": [
       "(12676,)"
      ]
     },
     "execution_count": 47,
     "metadata": {},
     "output_type": "execute_result"
    }
   ],
   "source": [
    "X_train, X_test, y_train, y_test = train_test_split(X, y, test_size=0.30, random_state=10)\n",
    "X_train.shape"
   ]
  },
  {
   "cell_type": "code",
   "execution_count": 48,
   "metadata": {
    "colab": {},
    "colab_type": "code",
    "id": "78-UTKIm5gU2"
   },
   "outputs": [],
   "source": [
    "tokenizer = Tokenizer(num_words=200)\n",
    "tokenizer.fit_on_texts(X)\n",
    "\n",
    "X_train = tokenizer.texts_to_sequences(X_train)\n",
    "X_test = tokenizer.texts_to_sequences(X_test)\n",
    "\n",
    "vocab_size =200\n",
    "\n",
    "maxlen = 100\n",
    "\n",
    "X_train = pad_sequences(X_train, padding='post', maxlen=100)\n",
    "X_test = pad_sequences(X_test, padding='post', maxlen=100)"
   ]
  },
  {
   "cell_type": "code",
   "execution_count": 49,
   "metadata": {},
   "outputs": [],
   "source": [
    "model = Sequential()\n",
    "model.add(Embedding(vocab_size,100, input_length=100))\n",
    "model.add(Flatten())\n",
    "model.add(Dense(100, activation='relu',input_dim=100))\n",
    "# model.add(Flatten())\n",
    "model.add(Dense(6, activation='softmax'))\n",
    "model.compile(optimizer='adam',\n",
    "              loss='binary_crossentropy',\n",
    "              metrics=['accuracy'])"
   ]
  },
  {
   "cell_type": "code",
   "execution_count": 50,
   "metadata": {},
   "outputs": [
    {
     "name": "stderr",
     "output_type": "stream",
     "text": [
      "/Applications/anaconda3/lib/python3.7/site-packages/tensorflow/python/framework/indexed_slices.py:434: UserWarning: Converting sparse IndexedSlices to a dense Tensor of unknown shape. This may consume a large amount of memory.\n",
      "  \"Converting sparse IndexedSlices to a dense Tensor of unknown shape. \"\n"
     ]
    },
    {
     "name": "stdout",
     "output_type": "stream",
     "text": [
      "Train on 10140 samples, validate on 2536 samples\n",
      "Epoch 1/10\n",
      "10140/10140 [==============================] - 3s 252us/step - loss: 0.3666 - accuracy: 0.8543 - val_loss: 0.3175 - val_accuracy: 0.8688\n",
      "Epoch 2/10\n",
      "10140/10140 [==============================] - 2s 207us/step - loss: 0.2831 - accuracy: 0.8835 - val_loss: 0.2768 - val_accuracy: 0.8893\n",
      "Epoch 3/10\n",
      "10140/10140 [==============================] - 2s 208us/step - loss: 0.2412 - accuracy: 0.9033 - val_loss: 0.2790 - val_accuracy: 0.8876\n",
      "Epoch 4/10\n",
      "10140/10140 [==============================] - 2s 226us/step - loss: 0.2152 - accuracy: 0.9149 - val_loss: 0.2877 - val_accuracy: 0.8845\n",
      "Epoch 5/10\n",
      "10140/10140 [==============================] - 2s 245us/step - loss: 0.1911 - accuracy: 0.9255 - val_loss: 0.3007 - val_accuracy: 0.8830\n",
      "Epoch 6/10\n",
      "10140/10140 [==============================] - 2s 234us/step - loss: 0.1688 - accuracy: 0.9352 - val_loss: 0.3205 - val_accuracy: 0.8776\n",
      "Epoch 7/10\n",
      "10140/10140 [==============================] - 2s 218us/step - loss: 0.1474 - accuracy: 0.9443 - val_loss: 0.3469 - val_accuracy: 0.8748\n",
      "Epoch 8/10\n",
      "10140/10140 [==============================] - 3s 253us/step - loss: 0.1298 - accuracy: 0.9512 - val_loss: 0.3700 - val_accuracy: 0.8698\n",
      "Epoch 9/10\n",
      "10140/10140 [==============================] - 3s 247us/step - loss: 0.1131 - accuracy: 0.9589 - val_loss: 0.3988 - val_accuracy: 0.8660\n",
      "Epoch 10/10\n",
      "10140/10140 [==============================] - 2s 221us/step - loss: 0.0986 - accuracy: 0.9652 - val_loss: 0.4331 - val_accuracy: 0.8632\n",
      "Model: \"sequential_1\"\n",
      "_________________________________________________________________\n",
      "Layer (type)                 Output Shape              Param #   \n",
      "=================================================================\n",
      "embedding_1 (Embedding)      (None, 100, 100)          20000     \n",
      "_________________________________________________________________\n",
      "flatten_1 (Flatten)          (None, 10000)             0         \n",
      "_________________________________________________________________\n",
      "dense_1 (Dense)              (None, 100)               1000100   \n",
      "_________________________________________________________________\n",
      "dense_2 (Dense)              (None, 6)                 606       \n",
      "=================================================================\n",
      "Total params: 1,020,706\n",
      "Trainable params: 1,020,706\n",
      "Non-trainable params: 0\n",
      "_________________________________________________________________\n"
     ]
    }
   ],
   "source": [
    "model.fit(X_train, y_train, epochs=10, batch_size=64, verbose=1, validation_split=0.2)\n",
    "model.summary()"
   ]
  },
  {
   "cell_type": "markdown",
   "metadata": {},
   "source": [
    "# CNN"
   ]
  },
  {
   "cell_type": "code",
   "execution_count": 51,
   "metadata": {},
   "outputs": [],
   "source": [
    "# sentences = []\n",
    "X = classify_data['Text']"
   ]
  },
  {
   "cell_type": "code",
   "execution_count": 52,
   "metadata": {},
   "outputs": [
    {
     "data": {
      "text/plain": [
       "(18109, 6)"
      ]
     },
     "execution_count": 52,
     "metadata": {},
     "output_type": "execute_result"
    }
   ],
   "source": [
    "y = pd.get_dummies(classify_data['Cat1_encoded']).values\n",
    "# y = classify_data['Cat1_encoded'].values\n",
    "y.shape"
   ]
  },
  {
   "cell_type": "code",
   "execution_count": 53,
   "metadata": {},
   "outputs": [
    {
     "data": {
      "text/plain": [
       "(12676,)"
      ]
     },
     "execution_count": 53,
     "metadata": {},
     "output_type": "execute_result"
    }
   ],
   "source": [
    "X_train, X_test, y_train, y_test = train_test_split(X, y, test_size=0.30, random_state=10)\n",
    "X_train.shape"
   ]
  },
  {
   "cell_type": "code",
   "execution_count": 54,
   "metadata": {},
   "outputs": [],
   "source": [
    "tokenizer = Tokenizer(num_words=500)\n",
    "tokenizer.fit_on_texts(X)\n",
    "\n",
    "X_train = tokenizer.texts_to_sequences(X_train)\n",
    "X_test = tokenizer.texts_to_sequences(X_test)\n",
    "\n",
    "vocab_size =500\n",
    "\n",
    "maxlen = 100\n",
    "\n",
    "X_train = pad_sequences(X_train, padding='post', maxlen=100)\n",
    "X_test = pad_sequences(X_test, padding='post', maxlen=100)"
   ]
  },
  {
   "cell_type": "code",
   "execution_count": 55,
   "metadata": {},
   "outputs": [
    {
     "name": "stdout",
     "output_type": "stream",
     "text": [
      "Train on 12676 samples, validate on 5433 samples\n",
      "Epoch 1/10\n",
      "12676/12676 [==============================] - 5s 377us/step - loss: 0.4226 - accuracy: 0.8406 - val_loss: 0.3166 - val_accuracy: 0.8750\n",
      "Epoch 2/10\n",
      "12676/12676 [==============================] - 4s 335us/step - loss: 0.2694 - accuracy: 0.8931 - val_loss: 0.2219 - val_accuracy: 0.9134\n",
      "Epoch 3/10\n",
      "12676/12676 [==============================] - 4s 337us/step - loss: 0.2180 - accuracy: 0.9160 - val_loss: 0.2111 - val_accuracy: 0.9169\n",
      "Epoch 4/10\n",
      "12676/12676 [==============================] - 4s 336us/step - loss: 0.2038 - accuracy: 0.9205 - val_loss: 0.2087 - val_accuracy: 0.9167\n",
      "Epoch 5/10\n",
      "12676/12676 [==============================] - 4s 338us/step - loss: 0.1933 - accuracy: 0.9249 - val_loss: 0.2057 - val_accuracy: 0.9195\n",
      "Epoch 6/10\n",
      "12676/12676 [==============================] - 4s 338us/step - loss: 0.1827 - accuracy: 0.9291 - val_loss: 0.2074 - val_accuracy: 0.9182\n",
      "Epoch 7/10\n",
      "12676/12676 [==============================] - 5s 367us/step - loss: 0.1751 - accuracy: 0.9314 - val_loss: 0.2094 - val_accuracy: 0.9177\n",
      "Epoch 8/10\n",
      "12676/12676 [==============================] - 4s 341us/step - loss: 0.1664 - accuracy: 0.9358 - val_loss: 0.2104 - val_accuracy: 0.9173\n",
      "Epoch 9/10\n",
      "12676/12676 [==============================] - 4s 340us/step - loss: 0.1590 - accuracy: 0.9395 - val_loss: 0.2111 - val_accuracy: 0.9165\n",
      "Epoch 10/10\n",
      "12676/12676 [==============================] - 4s 343us/step - loss: 0.1496 - accuracy: 0.9424 - val_loss: 0.2158 - val_accuracy: 0.9152\n",
      "Model: \"sequential_2\"\n",
      "_________________________________________________________________\n",
      "Layer (type)                 Output Shape              Param #   \n",
      "=================================================================\n",
      "embedding_2 (Embedding)      (None, 100, 100)          50000     \n",
      "_________________________________________________________________\n",
      "dropout_1 (Dropout)          (None, 100, 100)          0         \n",
      "_________________________________________________________________\n",
      "conv1d_1 (Conv1D)            (None, 98, 250)           75250     \n",
      "_________________________________________________________________\n",
      "global_max_pooling1d_1 (Glob (None, 250)               0         \n",
      "_________________________________________________________________\n",
      "dense_3 (Dense)              (None, 100)               25100     \n",
      "_________________________________________________________________\n",
      "dropout_2 (Dropout)          (None, 100)               0         \n",
      "_________________________________________________________________\n",
      "activation_1 (Activation)    (None, 100)               0         \n",
      "_________________________________________________________________\n",
      "dense_4 (Dense)              (None, 6)                 606       \n",
      "_________________________________________________________________\n",
      "activation_2 (Activation)    (None, 6)                 0         \n",
      "=================================================================\n",
      "Total params: 150,956\n",
      "Trainable params: 150,956\n",
      "Non-trainable params: 0\n",
      "_________________________________________________________________\n"
     ]
    }
   ],
   "source": [
    "filters = 250\n",
    "kernel_size = 3\n",
    "hidden_dims = 100\n",
    "\n",
    "model = Sequential()\n",
    "\n",
    "# we start off with an efficient embedding layer which maps\n",
    "# our vocab indices into embedding_dims dimensions\n",
    "model.add(Embedding(vocab_size,\n",
    "                    100,\n",
    "                    input_length=maxlen))\n",
    "model.add(Dropout(0.2))\n",
    "# binary_crossentropy\n",
    "# we add a Convolution1D, which will learn filters\n",
    "# word group filters of size filter_length:\n",
    "model.add(Conv1D(filters,\n",
    "                 kernel_size,\n",
    "                 padding='valid',\n",
    "                 activation='relu',\n",
    "                 strides=1))\n",
    "# we use max pooling:\n",
    "model.add(GlobalMaxPooling1D())\n",
    "\n",
    "# We add a vanilla hidden layer:\n",
    "model.add(Dense(hidden_dims))\n",
    "model.add(Dropout(0.2))\n",
    "model.add(Activation('relu'))\n",
    "\n",
    "# We project onto a single unit output layer, and squash it with a sigmoid:\n",
    "model.add(Dense(6))\n",
    "model.add(Activation('sigmoid'))\n",
    "\n",
    "model.compile(loss='binary_crossentropy',\n",
    "              optimizer='adam',\n",
    "              metrics=['accuracy'])\n",
    "model.fit(X_train, y_train,\n",
    "          batch_size=128,\n",
    "          epochs=10,\n",
    "          validation_data=(X_test, y_test))\n",
    "model.summary()"
   ]
  },
  {
   "cell_type": "markdown",
   "metadata": {},
   "source": [
    "# LSTM (RNN)"
   ]
  },
  {
   "cell_type": "code",
   "execution_count": 56,
   "metadata": {},
   "outputs": [],
   "source": [
    "# sentences = []\n",
    "X = classify_data['Text']"
   ]
  },
  {
   "cell_type": "code",
   "execution_count": 57,
   "metadata": {},
   "outputs": [
    {
     "data": {
      "text/plain": [
       "(18109, 6)"
      ]
     },
     "execution_count": 57,
     "metadata": {},
     "output_type": "execute_result"
    }
   ],
   "source": [
    "y = pd.get_dummies(classify_data['Cat1_encoded']).values\n",
    "# y = classify_data['Cat1_encoded'].values\n",
    "y.shape"
   ]
  },
  {
   "cell_type": "code",
   "execution_count": 58,
   "metadata": {},
   "outputs": [
    {
     "data": {
      "text/plain": [
       "(12676,)"
      ]
     },
     "execution_count": 58,
     "metadata": {},
     "output_type": "execute_result"
    }
   ],
   "source": [
    "X_train, X_test, y_train, y_test = train_test_split(X, y, test_size=0.30, random_state=10)\n",
    "X_train.shape"
   ]
  },
  {
   "cell_type": "code",
   "execution_count": 59,
   "metadata": {},
   "outputs": [],
   "source": [
    "tokenizer = Tokenizer(num_words=500)\n",
    "tokenizer.fit_on_texts(X)\n",
    "\n",
    "X_train = tokenizer.texts_to_sequences(X_train)\n",
    "X_test = tokenizer.texts_to_sequences(X_test)\n",
    "\n",
    "vocab_size =500\n",
    "\n",
    "maxlen = 50\n",
    "\n",
    "X_train = pad_sequences(X_train, padding='post', maxlen=50)\n",
    "X_test = pad_sequences(X_test, padding='post', maxlen=50)"
   ]
  },
  {
   "cell_type": "code",
   "execution_count": 62,
   "metadata": {},
   "outputs": [
    {
     "name": "stdout",
     "output_type": "stream",
     "text": [
      "Epoch 1/10\n",
      "12676/12676 [==============================] - 42s 3ms/step - loss: 0.3431 - accuracy: 0.8642\n",
      "Epoch 2/10\n",
      "12676/12676 [==============================] - 45s 4ms/step - loss: 0.2226 - accuracy: 0.9142\n",
      "Epoch 3/10\n",
      "12676/12676 [==============================] - 41s 3ms/step - loss: 0.2036 - accuracy: 0.9221\n",
      "Epoch 4/10\n",
      "12676/12676 [==============================] - 40s 3ms/step - loss: 0.1943 - accuracy: 0.9250\n",
      "Epoch 5/10\n",
      "12676/12676 [==============================] - 42s 3ms/step - loss: 0.1876 - accuracy: 0.9274\n",
      "Epoch 6/10\n",
      "12676/12676 [==============================] - 42s 3ms/step - loss: 0.1814 - accuracy: 0.9298\n",
      "Epoch 7/10\n",
      "12676/12676 [==============================] - 45s 4ms/step - loss: 0.1782 - accuracy: 0.9311\n",
      "Epoch 8/10\n",
      "12676/12676 [==============================] - 42s 3ms/step - loss: 0.1758 - accuracy: 0.9319\n",
      "Epoch 9/10\n",
      "12676/12676 [==============================] - 44s 3ms/step - loss: 0.1694 - accuracy: 0.9347\n",
      "Epoch 10/10\n",
      "12676/12676 [==============================] - 44s 3ms/step - loss: 0.1655 - accuracy: 0.9356\n",
      "Model: \"sequential_4\"\n",
      "_________________________________________________________________\n",
      "Layer (type)                 Output Shape              Param #   \n",
      "=================================================================\n",
      "embedding_4 (Embedding)      (None, 50, 256)           128000    \n",
      "_________________________________________________________________\n",
      "bidirectional_2 (Bidirection (None, 512)               1050624   \n",
      "_________________________________________________________________\n",
      "dropout_4 (Dropout)          (None, 512)               0         \n",
      "_________________________________________________________________\n",
      "dense_6 (Dense)              (None, 6)                 3078      \n",
      "=================================================================\n",
      "Total params: 1,181,702\n",
      "Trainable params: 1,181,702\n",
      "Non-trainable params: 0\n",
      "_________________________________________________________________\n",
      "Accuracy: 91.47%\n"
     ]
    }
   ],
   "source": [
    "model = Sequential()\n",
    "model.add(Embedding(vocab_size, 256, input_length=50))\n",
    "# model.add(Dropout(0.2))\n",
    "model.add(Bidirectional(LSTM(256)))\n",
    "model.add(Dropout(0.2))\n",
    "model.add(Dense(6, activation='sigmoid'))\n",
    "model.compile(loss='binary_crossentropy', optimizer='adam', metrics=['accuracy'])\n",
    "# print(model.summary())\n",
    "model.fit(X_train, y_train, epochs=10, batch_size=64)\n",
    "model.summary()\n",
    "# Final evaluation of the model\n",
    "scores = model.evaluate(X_test, y_test, verbose=0)\n",
    "print(\"Accuracy: %.2f%%\" % (scores[1]*100))"
   ]
  },
  {
   "cell_type": "code",
   "execution_count": null,
   "metadata": {},
   "outputs": [],
   "source": []
  }
 ],
 "metadata": {
  "colab": {
   "collapsed_sections": [],
   "name": "se-amazon",
   "provenance": []
  },
  "kernelspec": {
   "display_name": "Python 3",
   "language": "python",
   "name": "python3"
  },
  "language_info": {
   "codemirror_mode": {
    "name": "ipython",
    "version": 3
   },
   "file_extension": ".py",
   "mimetype": "text/x-python",
   "name": "python",
   "nbconvert_exporter": "python",
   "pygments_lexer": "ipython3",
   "version": "3.7.4"
  }
 },
 "nbformat": 4,
 "nbformat_minor": 1
}
